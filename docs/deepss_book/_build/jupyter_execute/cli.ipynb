{
 "cells": [
  {
   "cell_type": "markdown",
   "metadata": {},
   "source": [
    "# Command line interfaces\n",
    "\n",
    "## xb"
   ]
  },
  {
   "cell_type": "code",
   "execution_count": 1,
   "metadata": {},
   "outputs": [
    {
     "name": "stdout",
     "output_type": "stream",
     "text": [
      "No module named 'tensorflow.python.tools'; 'tensorflow.python' is not a package\r\n",
      "you may need to install DeepSS: link_to_pypi\r\n"
     ]
    },
    {
     "name": "stdout",
     "output_type": "stream",
     "text": [
      "usage: xb [-h] [-e EVENTS_STRING] [-t TARGET_SAMPLINGRATE]\r\n",
      "          [--spec-freq-min SPEC_FREQ_MIN] [--spec-freq-max SPEC_FREQ_MAX]\r\n",
      "          [-b BOX_SIZE] [--skip-dialog] [--no-skip-dialog]\r\n",
      "          [source]\r\n",
      "\r\n",
      "positional arguments:\r\n",
      "  source                Data source to load.\r\n",
      "                        Optional - will open an empty file if omitted.\r\n",
      "                        Source can be the path to a wav audio file,\r\n",
      "                        to an xarray-behave dataset saved as a zarr file,\r\n",
      "                        or to a data folder (e.g. 'dat/localhost-xxx').\r\n",
      "\r\n",
      "optional arguments:\r\n",
      "  -h, --help            show this help message and exit\r\n",
      "  -e EVENTS_STRING, --events-string EVENTS_STRING\r\n",
      "                        \"event_name,event_category;event_name,event_category\".\r\n",
      "                        Avoid spaces or trailing ';'.\r\n",
      "                        Need to wrap the string in \"...\" in the terminal\r\n",
      "                        \"event_name\" can be any string w/o space, \",\", or \";\"\r\n",
      "                        \"event_category\" can by event (pulse) or segment (sine, syllable)\r\n",
      "                        Only used if source is a data folder or a wav audio file.\r\n",
      "                        (default: )\r\n",
      "  -t TARGET_SAMPLINGRATE, --target-samplingrate TARGET_SAMPLINGRATE\r\n",
      "                        [description]. If 0, will use frame times. Defaults to None.\r\n",
      "                        Only used if source is a data folder or a wav audio file.\r\n",
      "                        (default: None)\r\n",
      "  --spec-freq-min SPEC_FREQ_MIN\r\n",
      "                        [description].\r\n",
      "                        (default: None)\r\n",
      "  --spec-freq-max SPEC_FREQ_MAX\r\n",
      "                        [description].\r\n",
      "                        (default: None)\r\n",
      "  -b BOX_SIZE, --box-size BOX_SIZE\r\n",
      "                        desc.\r\n",
      "                        Not used for wav audio files (no videos).\r\n",
      "                        (default: 200)\r\n",
      "  --skip-dialog         If True, skips the opening dialog and goes straight to opening the data.\r\n",
      "                        (default: False)\r\n",
      "  --no-skip-dialog\r\n",
      "\u001b[0m"
     ]
    }
   ],
   "source": [
    "!xb --help"
   ]
  },
  {
   "cell_type": "markdown",
   "metadata": {},
   "source": [
    "## dss-train"
   ]
  },
  {
   "cell_type": "code",
   "execution_count": 2,
   "metadata": {},
   "outputs": [
    {
     "name": "stdout",
     "output_type": "stream",
     "text": [
      "/Users/janc/miniconda/lib/python3.7/site-packages/librosa/util/decorators.py:9: NumbaDeprecationWarning: \u001b[1mAn import was requested from a module that has moved location.\r\n",
      "Import requested from: 'numba.decorators', please update to use 'numba.core.decorators' or pin to Numba version 0.48.0. This alias will not be present in Numba version 0.50.0.\u001b[0m\r\n",
      "  from numba.decorators import jit as optional_jit\r\n",
      "/Users/janc/miniconda/lib/python3.7/site-packages/librosa/util/decorators.py:9: NumbaDeprecationWarning: \u001b[1mAn import was requested from a module that has moved location.\r\n",
      "Import of 'jit' requested from: 'numba.decorators', please update to use 'numba.core.decorators' or pin to Numba version 0.48.0. This alias will not be present in Numba version 0.50.0.\u001b[0m\r\n",
      "  from numba.decorators import jit as optional_jit\r\n"
     ]
    },
    {
     "name": "stdout",
     "output_type": "stream",
     "text": [
      "usage: dss-train [-h] -d DATA_DIR [-m MODEL_NAME] [--nb-filters NB_FILTERS]\r\n",
      "                 [-k KERNEL_SIZE] [--nb-conv NB_CONV] [--nb-hist NB_HIST]\r\n",
      "                 [--batch-norm] [--no-batch-norm] [--save-dir SAVE_DIR]\r\n",
      "                 [-v VERBOSE] [--nb-stacks NB_STACKS] [-w] [--no-with-y-hist]\r\n",
      "                 [--nb-epoch NB_EPOCH] [-f FRACTION_DATA] [--seed SEED] [-i]\r\n",
      "                 [--no-ignore-boundaries] [-x X_SUFFIX] [-y Y_SUFFIX]\r\n",
      "                 [--nb-pre-conv NB_PRE_CONV] [--learning-rate LEARNING_RATE]\r\n",
      "                 [--reduce-lr] [--no-reduce-lr]\r\n",
      "                 [--reduce-lr-patience REDUCE_LR_PATIENCE]\r\n",
      "                 [--batch-level-subsampling] [--no-batch-level-subsampling]\r\n",
      "                 [-t] [--no-tensorboard]\r\n",
      "                 [-u [USE_SEPARABLE [USE_SEPARABLE ...]]]\r\n",
      "                 [--pre-kernel-size PRE_KERNEL_SIZE]\r\n",
      "                 [--pre-nb-filters PRE_NB_FILTERS] [--pre-nb-conv PRE_NB_CONV]\r\n",
      "                 [--save-prefix SAVE_PREFIX] [--log-messages]\r\n",
      "                 [--no-log-messages]\r\n",
      "\r\n",
      "[summary]\r\n",
      "\r\n",
      "optional arguments:\r\n",
      "  -h, --help            show this help message and exit\r\n",
      "  -d DATA_DIR, --data-dir DATA_DIR\r\n",
      "                        [description]. Defaults to '../dat.song'.\r\n",
      "  -m MODEL_NAME, --model-name MODEL_NAME\r\n",
      "                        [description]. Defaults to 'tcn_seq'.\r\n",
      "                        (default: tcn)\r\n",
      "  --nb-filters NB_FILTERS\r\n",
      "                        [description]. Defaults to 16.\r\n",
      "                        (default: 16)\r\n",
      "  -k KERNEL_SIZE, --kernel-size KERNEL_SIZE\r\n",
      "                        [description]. Defaults to 3.\r\n",
      "                        (default: 3)\r\n",
      "  --nb-conv NB_CONV     [description]. Defaults to 3.\r\n",
      "                        (default: 3)\r\n",
      "  --nb-hist NB_HIST     [description]. Defaults to 1024.\r\n",
      "                        (default: 1024)\r\n",
      "  --batch-norm          [description]. Defaults to True.\r\n",
      "                        (default: True)\r\n",
      "  --no-batch-norm\r\n",
      "  --save-dir SAVE_DIR   [description]. Defaults to current directory ('./').\r\n",
      "                        (default: ./)\r\n",
      "  -v VERBOSE, --verbose VERBOSE\r\n",
      "                        Verbosity of training output (0 - no output(?), 1 - progress bar, 2 - one line per epoch). Defaults to 2.\r\n",
      "                        (default: 2)\r\n",
      "  --nb-stacks NB_STACKS\r\n",
      "                        [description]. Defaults to 2.\r\n",
      "                        (default: 2)\r\n",
      "  -w, --with-y-hist     [description]. Defaults to True.\r\n",
      "                        (default: True)\r\n",
      "  --no-with-y-hist\r\n",
      "  --nb-epoch NB_EPOCH   Defaults to 400.\r\n",
      "                        (default: 400)\r\n",
      "  -f FRACTION_DATA, --fraction-data FRACTION_DATA\r\n",
      "                        [description]. Defaults to 1.0.\r\n",
      "                        (default: None)\r\n",
      "  --seed SEED           Seed for selecting random subsets of the data. Defaults to None (no seed).\r\n",
      "                        (default: None)\r\n",
      "  -i, --ignore-boundaries\r\n",
      "                        [description]. Defaults to False.\r\n",
      "                        (default: False)\r\n",
      "  --no-ignore-boundaries\r\n",
      "  -x X_SUFFIX, --x-suffix X_SUFFIX\r\n",
      "                        ... Defaults to '' (will use 'x')\r\n",
      "                        (default: )\r\n",
      "  -y Y_SUFFIX, --y-suffix Y_SUFFIX\r\n",
      "                        ... Defaults to '' (will use 'y')\r\n",
      "                        (default: )\r\n",
      "  --nb-pre-conv NB_PRE_CONV\r\n",
      "                        adds a frontend of N conv blocks (conv-relu-batchnorm-maxpool2) to the TCN - useful for reducing the sampling rate for USV. Defaults to 0 (no frontend).\r\n",
      "                        (default: 0)\r\n",
      "  --learning-rate LEARNING_RATE\r\n",
      "                        learning rate of the model. Defaults to None (values set in the model def)\r\n",
      "                        (default: None)\r\n",
      "  --reduce-lr           reduce learning rate on plateau\r\n",
      "                        (default: False)\r\n",
      "  --no-reduce-lr\r\n",
      "  --reduce-lr-patience REDUCE_LR_PATIENCE\r\n",
      "  --batch-level-subsampling\r\n",
      "                        if true fraction data will select random subset of shuffled batches, otherwise will select a continuous chunk of the recording\r\n",
      "                        (default: False)\r\n",
      "  --no-batch-level-subsampling\r\n",
      "  -t, --tensorboard     whether to write tensorboard logs to save_dir Defaults to False.\r\n",
      "                        (default: False)\r\n",
      "  --no-tensorboard\r\n",
      "  -u [USE_SEPARABLE [USE_SEPARABLE ...]], --use-separable [USE_SEPARABLE [USE_SEPARABLE ...]]\r\n",
      "                        use separable convs in TCN. Defaults to False.\r\n",
      "                        (default: False)\r\n",
      "  --pre-kernel-size PRE_KERNEL_SIZE\r\n",
      "                        [description]. Defaults to 3.\r\n",
      "                        (default: 3)\r\n",
      "  --pre-nb-filters PRE_NB_FILTERS\r\n",
      "                        [description]. Defaults to 16.\r\n",
      "                        (default: 16)\r\n",
      "  --pre-nb-conv PRE_NB_CONV\r\n",
      "                        [description]. Defaults to 3.\r\n",
      "                        (default: 2)\r\n",
      "  --save-prefix SAVE_PREFIX\r\n",
      "                        prepend to save file name. Defaults to ''.\r\n",
      "                        (default: None)\r\n",
      "  --log-messages        sets logging level to INFO. Defaults to False (will follow existing settings).\r\n",
      "                        (default: False)\r\n",
      "  --no-log-messages\r\n",
      "\u001b[0m"
     ]
    }
   ],
   "source": [
    "!dss-train --help"
   ]
  },
  {
   "cell_type": "markdown",
   "metadata": {},
   "source": [
    "## dss-predict"
   ]
  },
  {
   "cell_type": "code",
   "execution_count": 3,
   "metadata": {},
   "outputs": [
    {
     "name": "stdout",
     "output_type": "stream",
     "text": [
      "/Users/janc/miniconda/lib/python3.7/site-packages/librosa/util/decorators.py:9: NumbaDeprecationWarning: \u001b[1mAn import was requested from a module that has moved location.\r\n",
      "Import requested from: 'numba.decorators', please update to use 'numba.core.decorators' or pin to Numba version 0.48.0. This alias will not be present in Numba version 0.50.0.\u001b[0m\r\n",
      "  from numba.decorators import jit as optional_jit\r\n",
      "/Users/janc/miniconda/lib/python3.7/site-packages/librosa/util/decorators.py:9: NumbaDeprecationWarning: \u001b[1mAn import was requested from a module that has moved location.\r\n",
      "Import of 'jit' requested from: 'numba.decorators', please update to use 'numba.core.decorators' or pin to Numba version 0.48.0. This alias will not be present in Numba version 0.50.0.\u001b[0m\r\n",
      "  from numba.decorators import jit as optional_jit\r\n"
     ]
    },
    {
     "name": "stdout",
     "output_type": "stream",
     "text": [
      "usage: dss-predict [-h] [--save-filename SAVE_FILENAME] [-v VERBOSE]\r\n",
      "                   [-b BATCH_SIZE] [--event-thres EVENT_THRES]\r\n",
      "                   [--event-dist EVENT_DIST] [--event-dist-min EVENT_DIST_MIN]\r\n",
      "                   [--event-dist-max EVENT_DIST_MAX]\r\n",
      "                   [--segment-thres SEGMENT_THRES]\r\n",
      "                   [--segment-minlen SEGMENT_MINLEN]\r\n",
      "                   [--segment-fillgap SEGMENT_FILLGAP]\r\n",
      "                   recording_filename model_save_name\r\n",
      "\r\n",
      "[summary] \r\n",
      " \r\n",
      "Saves hdf5 file with keys: events, segments,class_probabilities\r\n",
      "\r\n",
      "positional arguments:\r\n",
      "  recording_filename    path to the WAV file with the audio data.\r\n",
      "  model_save_name       path with the trunk name of the model.\r\n",
      "\r\n",
      "optional arguments:\r\n",
      "  -h, --help            show this help message and exit\r\n",
      "  --save-filename SAVE_FILENAME\r\n",
      "                        path to save annotations to. [Optional] - will strip extension from recording_filename and add '_dss.h5'.\r\n",
      "                        (default: None)\r\n",
      "  -v VERBOSE, --verbose VERBOSE\r\n",
      "                        display progress bar during prediction. Defaults to 1.\r\n",
      "                        (default: 1)\r\n",
      "  -b BATCH_SIZE, --batch-size BATCH_SIZE\r\n",
      "                        number of chunks processed at once . Defaults to None (the default used during training).\r\n",
      "                        Larger batches lead to faster inference. Limited by memory size, in particular for GPUs which typically have 8GB.\r\n",
      "                        (default: None)\r\n",
      "  --event-thres EVENT_THRES\r\n",
      "                        Confidence threshold for detecting peaks. Range 0..1. Defaults to 0.5.\r\n",
      "                        (default: 0.5)\r\n",
      "  --event-dist EVENT_DIST\r\n",
      "                        Minimal distance between adjacent events during thresholding.\r\n",
      "                        Prevents detecting duplicate events when the confidence trace is a little noisy.\r\n",
      "                        Defaults to 0.01.\r\n",
      "                        (default: 0.01)\r\n",
      "  --event-dist-min EVENT_DIST_MIN\r\n",
      "                        MINimal inter-event interval for the event filter run during post processing.\r\n",
      "                        Defaults to 0.\r\n",
      "                        (default: 0)\r\n",
      "  --event-dist-max EVENT_DIST_MAX\r\n",
      "                        MAXimal inter-event interval for the event filter run during post processing.\r\n",
      "                        Defaults to None (no upper limit).\r\n",
      "                        (default: None)\r\n",
      "  --segment-thres SEGMENT_THRES\r\n",
      "                        Confidence threshold for detecting segments. Range 0..1. Defaults to 0.5.\r\n",
      "                        (default: 0.5)\r\n",
      "  --segment-minlen SEGMENT_MINLEN\r\n",
      "                        Minimal duration of a segment used for filtering out spurious detections. Defaults to None.\r\n",
      "                        (default: None)\r\n",
      "  --segment-fillgap SEGMENT_FILLGAP\r\n",
      "                        Gap between adjacent segments to be filled. Useful for correcting brief lapses. Defaults to None.\r\n",
      "                        (default: None)\r\n",
      "\u001b[0m"
     ]
    }
   ],
   "source": [
    "!dss-predict --help"
   ]
  },
  {
   "cell_type": "code",
   "execution_count": null,
   "metadata": {},
   "outputs": [],
   "source": []
  }
 ],
 "metadata": {
  "kernelspec": {
   "display_name": "Python 3",
   "language": "python",
   "name": "python3"
  },
  "language_info": {
   "codemirror_mode": {
    "name": "ipython",
    "version": 3
   },
   "file_extension": ".py",
   "mimetype": "text/x-python",
   "name": "python",
   "nbconvert_exporter": "python",
   "pygments_lexer": "ipython3",
   "version": "3.7.7"
  },
  "widgets": {
   "application/vnd.jupyter.widget-state+json": {
    "state": {},
    "version_major": 2,
    "version_minor": 0
   }
  }
 },
 "nbformat": 4,
 "nbformat_minor": 4
}